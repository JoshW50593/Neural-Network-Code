{
 "cells": [
  {
   "cell_type": "markdown",
   "metadata": {
    "id": "3DR-eO17geWu"
   },
   "source": [
    "# Convolutional Neural Network"
   ]
  },
  {
   "cell_type": "markdown",
   "metadata": {
    "id": "EMefrVPCg-60"
   },
   "source": [
    "### Importing the libraries"
   ]
  },
  {
   "cell_type": "code",
   "execution_count": 1,
   "metadata": {
    "id": "MyPf5xyeojLy"
   },
   "outputs": [],
   "source": [
    "import tensorflow as tf\n",
    "from keras.preprocessing.image import ImageDataGenerator"
   ]
  },
  {
   "cell_type": "code",
   "execution_count": 2,
   "metadata": {
    "colab": {
     "base_uri": "https://localhost:8080/",
     "height": 35
    },
    "id": "LBwi0FXdo2e_",
    "outputId": "cee86c3e-9f59-4d4b-e85f-c1a2bf6cf10a"
   },
   "outputs": [
    {
     "data": {
      "text/plain": [
       "'2.9.1'"
      ]
     },
     "execution_count": 2,
     "metadata": {},
     "output_type": "execute_result"
    }
   ],
   "source": [
    "tf.__version__"
   ]
  },
  {
   "cell_type": "markdown",
   "metadata": {
    "id": "oxQxCBWyoGPE"
   },
   "source": [
    "## Part 1 - Data Preprocessing"
   ]
  },
  {
   "cell_type": "markdown",
   "metadata": {
    "id": "MvE-heJNo3GG"
   },
   "source": [
    "### Preprocessing the Training set"
   ]
  },
  {
   "cell_type": "markdown",
   "metadata": {
    "id": "yGuafnMhpKlA"
   },
   "source": [
    "we first apply transformation on only the images of training set, to avoid overfitting.\n",
    "The trasnforamtions are geometraical, zooms and or rotation.\n",
    "Called image augmentation."
   ]
  },
  {
   "cell_type": "code",
   "execution_count": 3,
   "metadata": {
    "colab": {
     "base_uri": "https://localhost:8080/"
    },
    "id": "WZL7Ex5tpI12",
    "outputId": "6ac3ee71-d7c5-4744-8f2d-33852c802950"
   },
   "outputs": [
    {
     "name": "stdout",
     "output_type": "stream",
     "text": [
      "Found 8000 images belonging to 2 classes.\n"
     ]
    }
   ],
   "source": [
    "train_datagen = ImageDataGenerator(\n",
    "        rescale=1./255, #feature scaling to each pixel\n",
    "        shear_range=0.2, #transformation\n",
    "        zoom_range=0.2, #transformation\n",
    "        horizontal_flip=True) #transformation\n",
    "      \n",
    "training_set = train_datagen.flow_from_directory(\n",
    "        'dataset/training_set', \n",
    "        target_size=(64, 64), #reduced from 150 to 64 to make training faster\n",
    "        batch_size=32, #how mnay images we want in each batch. 32 is normal\n",
    "        class_mode='binary') #binary bc only two outcomes\n",
    "        "
   ]
  },
  {
   "cell_type": "markdown",
   "metadata": {
    "id": "mrCMmGw9pHys"
   },
   "source": [
    "### Preprocessing the Test set"
   ]
  },
  {
   "cell_type": "code",
   "execution_count": 4,
   "metadata": {
    "colab": {
     "base_uri": "https://localhost:8080/"
    },
    "id": "4rIu9jaMyIUf",
    "outputId": "716328b8-f58f-4d98-ef6b-bee74fa98845"
   },
   "outputs": [
    {
     "name": "stdout",
     "output_type": "stream",
     "text": [
      "Found 2000 images belonging to 2 classes.\n"
     ]
    }
   ],
   "source": [
    "test_datagen = ImageDataGenerator(rescale=1./255) \n",
    "#dont want to flip or do other transfroms to keep the test set in tact\n",
    "#however we still need to scale them\n",
    "\n",
    "test_set = test_datagen.flow_from_directory( #pulls data into the tesst set\n",
    "        'dataset/test_set',\n",
    "        target_size=(64, 64),\n",
    "        batch_size=32,\n",
    "        class_mode='binary')"
   ]
  },
  {
   "cell_type": "markdown",
   "metadata": {
    "id": "af8O4l90gk7B"
   },
   "source": [
    "## Part 2 - Building the CNN"
   ]
  },
  {
   "cell_type": "markdown",
   "metadata": {
    "id": "ces1gXY2lmoX"
   },
   "source": [
    "### Initialising the CNN"
   ]
  },
  {
   "cell_type": "code",
   "execution_count": 5,
   "metadata": {
    "id": "G7sRrXWvEWS1"
   },
   "outputs": [],
   "source": [
    "cnn = tf.keras.models.Sequential()"
   ]
  },
  {
   "cell_type": "markdown",
   "metadata": {
    "id": "u5YJj_XMl5LF"
   },
   "source": [
    "### Step 1 - Convolution"
   ]
  },
  {
   "cell_type": "code",
   "execution_count": 6,
   "metadata": {
    "id": "t3G9GplPEooz"
   },
   "outputs": [],
   "source": [
    "cnn.add(tf.keras.layers.Conv2D(filters=32, kernel_size=3, activation='relu', input_shape=[64, 64, 3])) #to add first convolutional layer\n",
    "#this layer is an object of the conv 2D class\n",
    "#conv2d has a feautre detector being the filters. classic is 32\n",
    "#input shape - shape of input. in this case it is rgb the shape is 64 64 3\n",
    "# if black and white 64 64 1\n",
    "#kernel size is 3 bc want a 3 b 3 kernel"
   ]
  },
  {
   "cell_type": "markdown",
   "metadata": {
    "id": "tf87FpvxmNOJ"
   },
   "source": [
    "### Step 2 - Pooling"
   ]
  },
  {
   "cell_type": "code",
   "execution_count": 7,
   "metadata": {
    "id": "WmrsbNXZGDzA"
   },
   "outputs": [],
   "source": [
    "#we are going to apply(add) max pooling\n",
    "#max pooling is declared as an object of a class\n",
    "cnn.add(tf.keras.layers.MaxPool2D(pool_size=2, strides=2))\n",
    "#paramters of maxpool2d\n",
    "#first parameter is size of filter (frame) that moves over the image. only needs one input when it is a square\n",
    "#2nd parameter = stride: num of pixels which frame is shifted right. \n",
    "#once you reach the end of the image you can use padding to add zeros for these points. default has valid padding\n"
   ]
  },
  {
   "cell_type": "markdown",
   "metadata": {
    "id": "xaTOgD8rm4mU"
   },
   "source": [
    "### Adding a second convolutional layer"
   ]
  },
  {
   "cell_type": "code",
   "execution_count": 8,
   "metadata": {
    "id": "gBg7gKknHXsM"
   },
   "outputs": [],
   "source": [
    "cnn.add(tf.keras.layers.Conv2D(filters=32, kernel_size=3, activation='relu')) #to add 2nd convolutional layer\n",
    "#for 2nd layer dont need to specificy the shape\n",
    "cnn.add(tf.keras.layers.MaxPool2D(pool_size=2, strides=2))"
   ]
  },
  {
   "cell_type": "markdown",
   "metadata": {
    "id": "tmiEuvTunKfk"
   },
   "source": [
    "### Step 3 - Flattening"
   ]
  },
  {
   "cell_type": "code",
   "execution_count": 9,
   "metadata": {
    "id": "gM3eCG_eHlgP"
   },
   "outputs": [],
   "source": [
    "#creates 1d vector which becmoes the input of the future fully cnn\n",
    "cnn.add(tf.keras.layers.Flatten()) #does not need parameters"
   ]
  },
  {
   "cell_type": "markdown",
   "metadata": {
    "id": "dAoSECOm203v"
   },
   "source": [
    "### Step 4 - Full Connection"
   ]
  },
  {
   "cell_type": "code",
   "execution_count": 10,
   "metadata": {
    "id": "jcNB94fGH73Y"
   },
   "outputs": [],
   "source": [
    "#add a new fully connected layer.\n",
    "#done using the tensor flow, keras dense class\n",
    "#first parameter is units= : hidden nuerons in fully connected layer. choose larger number bc more data in this case\n",
    "#until you reach output layer generally just use relu\n",
    "cnn.add(tf.keras.layers.Dense(units=128, activation='relu'))"
   ]
  },
  {
   "cell_type": "markdown",
   "metadata": {
    "id": "yTldFvbX28Na"
   },
   "source": [
    "### Step 5 - Output Layer"
   ]
  },
  {
   "cell_type": "code",
   "execution_count": 11,
   "metadata": {
    "id": "IHUIYG2oKJlr"
   },
   "outputs": [],
   "source": [
    "#add a new fully connected layer using the dense class\n",
    "#excpet bc need less neurons in ouput layer, for binary classification it is 1\n",
    "#use sigmoid activation func at output for binary classification\n",
    "#if doing multi-class classification we would use softmax\n",
    "cnn.add(tf.keras.layers.Dense(units=1, activation='sigmoid'))"
   ]
  },
  {
   "cell_type": "markdown",
   "metadata": {
    "id": "D6XkI90snSDl"
   },
   "source": [
    "## Part 3 - Training the CNN"
   ]
  },
  {
   "cell_type": "markdown",
   "metadata": {
    "id": "vfrFQACEnc6i"
   },
   "source": [
    "### Compiling the CNN"
   ]
  },
  {
   "cell_type": "code",
   "execution_count": 12,
   "metadata": {
    "id": "XKwBG4-fQ5zM"
   },
   "outputs": [],
   "source": [
    "cnn.compile(optimizer= 'adam', loss = 'binary_crossentropy', metrics = ['accuracy'])"
   ]
  },
  {
   "cell_type": "markdown",
   "metadata": {
    "id": "ehS-v3MIpX2h"
   },
   "source": [
    "### Training the CNN on the Training set and evaluating it on the Test set"
   ]
  },
  {
   "cell_type": "code",
   "execution_count": 13,
   "metadata": {
    "id": "LTQnsqvzRadc"
   },
   "outputs": [
    {
     "name": "stdout",
     "output_type": "stream",
     "text": [
      "Epoch 1/25\n",
      "250/250 [==============================] - 47s 187ms/step - loss: 0.6434 - accuracy: 0.6109 - val_loss: 0.5569 - val_accuracy: 0.7370\n",
      "Epoch 2/25\n",
      "250/250 [==============================] - 42s 167ms/step - loss: 0.5838 - accuracy: 0.6955 - val_loss: 0.5565 - val_accuracy: 0.7160\n",
      "Epoch 3/25\n",
      "250/250 [==============================] - 46s 182ms/step - loss: 0.5455 - accuracy: 0.7251 - val_loss: 0.5112 - val_accuracy: 0.7595\n",
      "Epoch 4/25\n",
      "250/250 [==============================] - 46s 184ms/step - loss: 0.5133 - accuracy: 0.7459 - val_loss: 0.5413 - val_accuracy: 0.7370\n",
      "Epoch 5/25\n",
      "250/250 [==============================] - 46s 182ms/step - loss: 0.4932 - accuracy: 0.7581 - val_loss: 0.5064 - val_accuracy: 0.7570\n",
      "Epoch 6/25\n",
      "250/250 [==============================] - 47s 187ms/step - loss: 0.4782 - accuracy: 0.7716 - val_loss: 0.5110 - val_accuracy: 0.7620\n",
      "Epoch 7/25\n",
      "250/250 [==============================] - 44s 177ms/step - loss: 0.4723 - accuracy: 0.7781 - val_loss: 0.5492 - val_accuracy: 0.7250\n",
      "Epoch 8/25\n",
      "250/250 [==============================] - 43s 172ms/step - loss: 0.4593 - accuracy: 0.7839 - val_loss: 0.4642 - val_accuracy: 0.7895\n",
      "Epoch 9/25\n",
      "250/250 [==============================] - 46s 185ms/step - loss: 0.4414 - accuracy: 0.7925 - val_loss: 0.4548 - val_accuracy: 0.7780\n",
      "Epoch 10/25\n",
      "250/250 [==============================] - 54s 214ms/step - loss: 0.4326 - accuracy: 0.7960 - val_loss: 0.4677 - val_accuracy: 0.7795\n",
      "Epoch 11/25\n",
      "250/250 [==============================] - 49s 194ms/step - loss: 0.4121 - accuracy: 0.8086 - val_loss: 0.4665 - val_accuracy: 0.7890\n",
      "Epoch 12/25\n",
      "250/250 [==============================] - 45s 181ms/step - loss: 0.4110 - accuracy: 0.8134 - val_loss: 0.4567 - val_accuracy: 0.7975\n",
      "Epoch 13/25\n",
      "250/250 [==============================] - 44s 178ms/step - loss: 0.3924 - accuracy: 0.8224 - val_loss: 0.4434 - val_accuracy: 0.8020\n",
      "Epoch 14/25\n",
      "250/250 [==============================] - 39s 158ms/step - loss: 0.3889 - accuracy: 0.8229 - val_loss: 0.4512 - val_accuracy: 0.8005\n",
      "Epoch 15/25\n",
      "250/250 [==============================] - 44s 174ms/step - loss: 0.3780 - accuracy: 0.8275 - val_loss: 0.5418 - val_accuracy: 0.7605\n",
      "Epoch 16/25\n",
      "250/250 [==============================] - 43s 173ms/step - loss: 0.3722 - accuracy: 0.8290 - val_loss: 0.4616 - val_accuracy: 0.8005\n",
      "Epoch 17/25\n",
      "250/250 [==============================] - 43s 172ms/step - loss: 0.3604 - accuracy: 0.8379 - val_loss: 0.4565 - val_accuracy: 0.7975\n",
      "Epoch 18/25\n",
      "250/250 [==============================] - 43s 172ms/step - loss: 0.3426 - accuracy: 0.8466 - val_loss: 0.4690 - val_accuracy: 0.7920\n",
      "Epoch 19/25\n",
      "250/250 [==============================] - 43s 173ms/step - loss: 0.3412 - accuracy: 0.8468 - val_loss: 0.4469 - val_accuracy: 0.8105\n",
      "Epoch 20/25\n",
      "250/250 [==============================] - 44s 174ms/step - loss: 0.3326 - accuracy: 0.8544 - val_loss: 0.4726 - val_accuracy: 0.7910\n",
      "Epoch 21/25\n",
      "250/250 [==============================] - 43s 171ms/step - loss: 0.3285 - accuracy: 0.8572 - val_loss: 0.4927 - val_accuracy: 0.7695\n",
      "Epoch 22/25\n",
      "250/250 [==============================] - 43s 173ms/step - loss: 0.3079 - accuracy: 0.8670 - val_loss: 0.4461 - val_accuracy: 0.8100\n",
      "Epoch 23/25\n",
      "250/250 [==============================] - 46s 181ms/step - loss: 0.3032 - accuracy: 0.8675 - val_loss: 0.4696 - val_accuracy: 0.8130\n",
      "Epoch 24/25\n",
      "250/250 [==============================] - 42s 168ms/step - loss: 0.2945 - accuracy: 0.8804 - val_loss: 0.4623 - val_accuracy: 0.8075\n",
      "Epoch 25/25\n",
      "250/250 [==============================] - 44s 174ms/step - loss: 0.2982 - accuracy: 0.8717 - val_loss: 0.4748 - val_accuracy: 0.8100\n"
     ]
    },
    {
     "data": {
      "text/plain": [
       "<keras.callbacks.History at 0x284d198cf48>"
      ]
     },
     "execution_count": 13,
     "metadata": {},
     "output_type": "execute_result"
    }
   ],
   "source": [
    "cnn.fit(x = training_set, validation_data = test_set, epochs = 25)\n",
    "#use less epochs cause this takes longer\n",
    "#how to train on training set whilst evualting on th te test set"
   ]
  },
  {
   "cell_type": "markdown",
   "metadata": {
    "id": "U3PZasO0006Z"
   },
   "source": [
    "## Part 4 - Making a single prediction"
   ]
  },
  {
   "cell_type": "code",
   "execution_count": 31,
   "metadata": {
    "id": "iJ7ZdjORS98w"
   },
   "outputs": [
    {
     "name": "stdout",
     "output_type": "stream",
     "text": [
      "1/1 [==============================] - 0s 49ms/step\n",
      "[[0.5350223]]\n"
     ]
    }
   ],
   "source": [
    "import numpy as np\n",
    "from keras.preprocessing import image\n",
    "import keras.utils as ut\n",
    "\n",
    "test_image = ut.load_img('dataset/single_prediction/cat_or_dog_4.jpg', target_size = (64, 64)) #load image we want to test our model on\n",
    "#the size of the image must be resclaed to be the same as what was used for trainging and testing the model\n",
    "\n",
    "#predict method reuires a 2d array input\n",
    "test_image = ut.img_to_array(test_image)\n",
    "\n",
    "test_image = np.expand_dims(test_image, axis=0) #extra dimensoin which corresponds to the batch size\n",
    "#set axis=0 bc so dimesion of batch we are adding to the image will be the first dimension\n",
    "\n",
    "#test image now has correct format neede for the predict method\n",
    "\n",
    "result = cnn.predict(test_image/255.0) #is a batch dimesion\n",
    "print(result)\n",
    "if result[0][0]==1: #[batch][element in bacth]. not using >0.5 and not ==1 prvoides greater accuracy\n",
    "  prediction='dog'\n",
    "else:\n",
    "  prediction='cat'"
   ]
  },
  {
   "cell_type": "code",
   "execution_count": 32,
   "metadata": {
    "id": "Xsp_ecU4XOpP"
   },
   "outputs": [
    {
     "name": "stdout",
     "output_type": "stream",
     "text": [
      "cat\n"
     ]
    }
   ],
   "source": [
    "print(prediction)"
   ]
  },
  {
   "cell_type": "code",
   "execution_count": null,
   "metadata": {
    "colab": {
     "base_uri": "https://localhost:8080/"
    },
    "id": "YEgWCPpxWw26",
    "outputId": "118f5678-f6e8-4631-85c2-b45fe6980c7e"
   },
   "outputs": [],
   "source": [
    "training_set.class_indices"
   ]
  }
 ],
 "metadata": {
  "colab": {
   "collapsed_sections": [],
   "name": "Copy of convolutional_neural_network.ipynb",
   "provenance": []
  },
  "kernelspec": {
   "display_name": "Python 3",
   "language": "python",
   "name": "python3"
  },
  "language_info": {
   "codemirror_mode": {
    "name": "ipython",
    "version": 3
   },
   "file_extension": ".py",
   "mimetype": "text/x-python",
   "name": "python",
   "nbconvert_exporter": "python",
   "pygments_lexer": "ipython3",
   "version": "3.7.6"
  }
 },
 "nbformat": 4,
 "nbformat_minor": 1
}
